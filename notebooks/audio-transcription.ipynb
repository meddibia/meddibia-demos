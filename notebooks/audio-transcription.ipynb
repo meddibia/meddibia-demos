{
 "cells": [
  {
   "cell_type": "code",
   "execution_count": 8,
   "metadata": {},
   "outputs": [],
   "source": [
    "from pydantic import BaseModel, Field, computed_field, field_serializer\n",
    "from tqdm.auto import tqdm\n",
    "\n",
    "import instructor\n",
    "import asyncio\n",
    "import openai\n",
    "import httpx\n",
    "import rich\n",
    "\n",
    "from typing import Generator\n",
    "from pathlib import Path\n",
    "import json\n",
    "import os\n",
    "\n"
   ]
  },
  {
   "cell_type": "code",
   "execution_count": 2,
   "metadata": {},
   "outputs": [
    {
     "data": {
      "text/plain": [
       "[Recording(path=PosixPath('/mnt/arrakis/meddibia/meddibia-demos/data/recordings/native-AUD-20240523-061346.mp3'), job_id=None, raw_transcript=None, summary=None),\n",
       " Recording(path=PosixPath('/mnt/arrakis/meddibia/meddibia-demos/data/recordings/english-AUD-20240423-WA0003.mp3'), job_id=None, raw_transcript=None, summary=None),\n",
       " Recording(path=PosixPath('/mnt/arrakis/meddibia/meddibia-demos/data/recordings/english-AUD-20240423-WA0002.mp3'), job_id=None, raw_transcript=None, summary=None),\n",
       " Recording(path=PosixPath('/mnt/arrakis/meddibia/meddibia-demos/data/recordings/native-AUD-20240523-080100.mp3'), job_id=None, raw_transcript=None, summary=None),\n",
       " Recording(path=PosixPath('/mnt/arrakis/meddibia/meddibia-demos/data/recordings/english-AUD-20240423-WA0004.mp3'), job_id=None, raw_transcript=None, summary=None),\n",
       " Recording(path=PosixPath('/mnt/arrakis/meddibia/meddibia-demos/data/recordings/native-AUD-20240524-013419.mp3'), job_id=None, raw_transcript=None, summary=None),\n",
       " Recording(path=PosixPath('/mnt/arrakis/meddibia/meddibia-demos/data/recordings/english-AUD-20240423-WA0000.mp3'), job_id=None, raw_transcript=None, summary=None),\n",
       " Recording(path=PosixPath('/mnt/arrakis/meddibia/meddibia-demos/data/recordings/native-AUD-20240523-063027.mp3'), job_id=None, raw_transcript=None, summary=None),\n",
       " Recording(path=PosixPath('/mnt/arrakis/meddibia/meddibia-demos/data/recordings/native-AUD-20240523-063744.mp3'), job_id=None, raw_transcript=None, summary=None),\n",
       " Recording(path=PosixPath('/mnt/arrakis/meddibia/meddibia-demos/data/recordings/english-AUD-20240423-WA0001.mp3'), job_id=None, raw_transcript=None, summary=None),\n",
       " Recording(path=PosixPath('/mnt/arrakis/meddibia/meddibia-demos/data/recordings/native-AUD-20240524-013401.mp3'), job_id=None, raw_transcript=None, summary=None),\n",
       " Recording(path=PosixPath('/mnt/arrakis/meddibia/meddibia-demos/data/recordings/english-AUD-20240423-WA0005.mp3'), job_id=None, raw_transcript=None, summary=None),\n",
       " Recording(path=PosixPath('/mnt/arrakis/meddibia/meddibia-demos/data/recordings/native-AUD-20240524-013418.mp3'), job_id=None, raw_transcript=None, summary=None)]"
      ]
     },
     "execution_count": 2,
     "metadata": {},
     "output_type": "execute_result"
    }
   ],
   "source": [
    "class Recording(BaseModel):\n",
    "    path: Path = Field(..., description=\"The name of the recording file\")\n",
    "    job_id: str | None = Field(None, description=\"The job id of the transcription job\")\n",
    "    raw_transcript: str | None = Field(None, description=\"The transcription of the recording\")\n",
    "    summary: str | None = Field(None, description=\"The summary of the recording\")\n",
    "\n",
    "    @field_serializer(\"path\")\n",
    "    def path_serializer(path: Path):\n",
    "        return str(path)\n",
    "\n",
    "\n",
    "audio_path = Path(\"/mnt/arrakis/meddibia/meddibia-demos/data/recordings\")\n",
    "audio_files = [Recording(path=str(p)) for p in audio_path.glob(\"*.mp3\")]\n",
    "\n",
    "audio_files"
   ]
  },
  {
   "cell_type": "code",
   "execution_count": 21,
   "metadata": {},
   "outputs": [],
   "source": [
    "def upload_file(audio_path: Path) -> Generator[bytes, None, None]:\n",
    "    with open(audio_path, \"rb\") as f:\n",
    "        file_size = os.path.getsize(audio_path)\n",
    "        chunk_size = 1024\n",
    "\n",
    "        with tqdm(\n",
    "            total=file_size,\n",
    "            unit=\"B\",\n",
    "            unit_scale=True,\n",
    "            desc=f\"Uploading {audio_path.name}\",\n",
    "        ) as pg:\n",
    "            while True:\n",
    "                chunk = f.read(chunk_size)\n",
    "                if not chunk:\n",
    "                    break\n",
    "                yield chunk\n",
    "                pg.update(len(chunk))\n",
    "\n",
    "\n",
    "class FileGenerator:\n",
    "    def __init__(self, audio_path: Path):\n",
    "        self.generator = upload_file(audio_path)\n",
    "\n",
    "    def read(self, size=-1):\n",
    "        try:\n",
    "            return next(self.generator)\n",
    "        except StopIteration:\n",
    "            return b\"\"\n",
    "\n",
    "\n",
    "async def transcribe(recording: Recording):\n",
    "    async with httpx.AsyncClient() as client:\n",
    "        response = await client.post(\n",
    "            f\"{os.environ['TRANSCRIPTION_SERVICE_URL']}/transcribe\",\n",
    "            headers={\n",
    "                \"Authorization\": f\"Bearer {os.environ['TRANSCRIPTION_SERVICE_KEY']}\",\n",
    "            },\n",
    "            files={\n",
    "                \"file\": (recording.path.name, FileGenerator(recording.path), \"audio/mpeg\")\n",
    "            },\n",
    "            timeout=15\n",
    "        )\n",
    "\n",
    "        if response.status_code == 200:\n",
    "            recording.job_id = response.json()[\"call_id\"]\n",
    "        else:\n",
    "            raise ValueError(f\"Failed to transcribe {recording.path.name}\")\n",
    "        \n",
    "        return recording\n",
    "\n",
    "\n",
    "async def get_transcript(recording: Recording):\n",
    "    assert recording.job_id is not None\n",
    "\n",
    "    itr = 0\n",
    "    while True:\n",
    "        print(f\"checking status of job {recording.job_id} for iteration {itr}\")\n",
    "        async with httpx.AsyncClient() as client:\n",
    "            response = await client.get(\n",
    "                f\"{os.environ['TRANSCRIPTION_SERVICE_URL']}/status/{recording.job_id}\",\n",
    "                timeout=15\n",
    "            )\n",
    "\n",
    "        if response.status_code == 200:\n",
    "            status = response.json()[\"status\"]\n",
    "            if status == \"complete\":\n",
    "                recording.raw_transcript = response.json()[\"transcript\"][\"text\"].strip()\n",
    "                break\n",
    "            else:\n",
    "                await asyncio.sleep(5)\n",
    "                itr += 1\n",
    "        else:\n",
    "            print(f\"Failed to get status of job {recording.job_id}\")\n",
    "            print(response.json())\n",
    "            if itr > 1:\n",
    "                break\n",
    "    \n",
    "    return recording\n",
    "\n",
    "\n",
    "async def start_transcriptions(audio_files: list[Recording]) -> list[Recording]:\n",
    "    semaphore = asyncio.Semaphore(4)  # Limit concurrency to 4\n",
    "    async def process_recording(recording: Recording) -> Recording:\n",
    "        async with semaphore:\n",
    "            return await transcribe(recording)\n",
    "\n",
    "    tasks = [process_recording(recording) for recording in audio_files]\n",
    "    return await asyncio.gather(*tasks)\n",
    "\n",
    "\n",
    "async def retrieve_transcriptions(transcribed_recordings: list[Recording]) -> list[Recording]:\n",
    "    semaphore = asyncio.Semaphore(4)  # Limit concurrency to 4\n",
    "    async def process_transcript(recording: Recording) -> Recording:\n",
    "        async with semaphore:\n",
    "            return await get_transcript(recording)\n",
    "\n",
    "    tasks = [process_transcript(recording) for recording in transcribed_recordings if recording.job_id is not None]\n",
    "    return await asyncio.gather(*tasks)"
   ]
  },
  {
   "cell_type": "code",
   "execution_count": 15,
   "metadata": {},
   "outputs": [
    {
     "data": {
      "application/vnd.jupyter.widget-view+json": {
       "model_id": "0f6ba48e3e704e42a80d6acdee7b3f0f",
       "version_major": 2,
       "version_minor": 0
      },
      "text/plain": [
       "Uploading native-AUD-20240523-061346.mp3:   0%|          | 0.00/1.05M [00:00<?, ?B/s]"
      ]
     },
     "metadata": {},
     "output_type": "display_data"
    },
    {
     "data": {
      "application/vnd.jupyter.widget-view+json": {
       "model_id": "66ffddda70e24a21904729e0ac5ffae3",
       "version_major": 2,
       "version_minor": 0
      },
      "text/plain": [
       "Uploading english-AUD-20240423-WA0002.mp3:   0%|          | 0.00/1.20M [00:00<?, ?B/s]"
      ]
     },
     "metadata": {},
     "output_type": "display_data"
    },
    {
     "data": {
      "application/vnd.jupyter.widget-view+json": {
       "model_id": "d36bac74737546ac8530d12ed60b7976",
       "version_major": 2,
       "version_minor": 0
      },
      "text/plain": [
       "Uploading native-AUD-20240523-080100.mp3:   0%|          | 0.00/1.24M [00:00<?, ?B/s]"
      ]
     },
     "metadata": {},
     "output_type": "display_data"
    },
    {
     "data": {
      "application/vnd.jupyter.widget-view+json": {
       "model_id": "8219c75d11674af1b024647c8531efe8",
       "version_major": 2,
       "version_minor": 0
      },
      "text/plain": [
       "Uploading english-AUD-20240423-WA0003.mp3:   0%|          | 0.00/344k [00:00<?, ?B/s]"
      ]
     },
     "metadata": {},
     "output_type": "display_data"
    },
    {
     "data": {
      "application/vnd.jupyter.widget-view+json": {
       "model_id": "daff4bb4e01d45bf80e7fd65eedaa8ae",
       "version_major": 2,
       "version_minor": 0
      },
      "text/plain": [
       "Uploading english-AUD-20240423-WA0004.mp3:   0%|          | 0.00/81.9k [00:00<?, ?B/s]"
      ]
     },
     "metadata": {},
     "output_type": "display_data"
    },
    {
     "data": {
      "application/vnd.jupyter.widget-view+json": {
       "model_id": "db53fb65123b49149f6c577bb699af5a",
       "version_major": 2,
       "version_minor": 0
      },
      "text/plain": [
       "Uploading native-AUD-20240524-013419.mp3:   0%|          | 0.00/1.18M [00:00<?, ?B/s]"
      ]
     },
     "metadata": {},
     "output_type": "display_data"
    },
    {
     "data": {
      "application/vnd.jupyter.widget-view+json": {
       "model_id": "5220293981304290b263c32c1c282f41",
       "version_major": 2,
       "version_minor": 0
      },
      "text/plain": [
       "Uploading english-AUD-20240423-WA0000.mp3:   0%|          | 0.00/906k [00:00<?, ?B/s]"
      ]
     },
     "metadata": {},
     "output_type": "display_data"
    },
    {
     "data": {
      "application/vnd.jupyter.widget-view+json": {
       "model_id": "01d39e7024274819b13e08e1f77b08ae",
       "version_major": 2,
       "version_minor": 0
      },
      "text/plain": [
       "Uploading native-AUD-20240523-063027.mp3:   0%|          | 0.00/787k [00:00<?, ?B/s]"
      ]
     },
     "metadata": {},
     "output_type": "display_data"
    },
    {
     "data": {
      "application/vnd.jupyter.widget-view+json": {
       "model_id": "4d702f0b4a1f4f0bb94d30c583d77db7",
       "version_major": 2,
       "version_minor": 0
      },
      "text/plain": [
       "Uploading native-AUD-20240523-063744.mp3:   0%|          | 0.00/1.54M [00:00<?, ?B/s]"
      ]
     },
     "metadata": {},
     "output_type": "display_data"
    },
    {
     "data": {
      "application/vnd.jupyter.widget-view+json": {
       "model_id": "fc5d9d360b814c31890ccec159ce8d8c",
       "version_major": 2,
       "version_minor": 0
      },
      "text/plain": [
       "Uploading english-AUD-20240423-WA0001.mp3:   0%|          | 0.00/1.06M [00:00<?, ?B/s]"
      ]
     },
     "metadata": {},
     "output_type": "display_data"
    },
    {
     "data": {
      "application/vnd.jupyter.widget-view+json": {
       "model_id": "55ebef9934234cbc946b993923a54fcd",
       "version_major": 2,
       "version_minor": 0
      },
      "text/plain": [
       "Uploading native-AUD-20240524-013401.mp3:   0%|          | 0.00/541k [00:00<?, ?B/s]"
      ]
     },
     "metadata": {},
     "output_type": "display_data"
    },
    {
     "data": {
      "application/vnd.jupyter.widget-view+json": {
       "model_id": "91ee2ec8774f4412a7d2472c926129bf",
       "version_major": 2,
       "version_minor": 0
      },
      "text/plain": [
       "Uploading english-AUD-20240423-WA0005.mp3:   0%|          | 0.00/748k [00:00<?, ?B/s]"
      ]
     },
     "metadata": {},
     "output_type": "display_data"
    },
    {
     "data": {
      "application/vnd.jupyter.widget-view+json": {
       "model_id": "fa442c1d7f5445a6bf74bf77ac0fe9f0",
       "version_major": 2,
       "version_minor": 0
      },
      "text/plain": [
       "Uploading native-AUD-20240524-013418.mp3:   0%|          | 0.00/1.18M [00:00<?, ?B/s]"
      ]
     },
     "metadata": {},
     "output_type": "display_data"
    }
   ],
   "source": [
    "submitted_recordings = await start_transcriptions(audio_files)\n",
    "\n"
   ]
  },
  {
   "cell_type": "code",
   "execution_count": 29,
   "metadata": {},
   "outputs": [
    {
     "name": "stdout",
     "output_type": "stream",
     "text": [
      "checking status of job fc-01HZFJJMHWDP2XTX4C14N0FRMG for iteration 0\n",
      "checking status of job fc-01HZFJJNT6KVZMK4P4YH493GNP for iteration 0\n",
      "checking status of job fc-01HZFJJKRYHENZD3HMTV9B0SWP for iteration 0\n",
      "checking status of job fc-01HZFJJK3HY0PABHMD8BGPKNMR for iteration 0\n",
      "checking status of job fc-01HZFJJMQPBEYGWZVET6WYWDZ4 for iteration 0\n",
      "checking status of job fc-01HZFJJNKXWR4130C4VYE7XHEC for iteration 0\n",
      "checking status of job fc-01HZFJJPKMBAKGPTXDPJ5DWMKK for iteration 0\n",
      "checking status of job fc-01HZFJJPDRANXCNZY1KAA8BX02 for iteration 0\n",
      "checking status of job fc-01HZFJJQDA4VHXCXS8X5BDEE1M for iteration 0\n",
      "checking status of job fc-01HZFJJSHMXN9Y4MKZE8XCTSDN for iteration 0\n",
      "checking status of job fc-01HZFJJRAB4Q8T09VFQT0PRYA6 for iteration 0\n",
      "checking status of job fc-01HZFJJR766X39RP8BDNXKDXGE for iteration 0\n",
      "checking status of job fc-01HZFJJVHE8ZAB76RZCY82327K for iteration 0\n"
     ]
    }
   ],
   "source": [
    "transcribed_recordings = await retrieve_transcriptions(submitted_recordings)\n",
    "\n"
   ]
  },
  {
   "cell_type": "code",
   "execution_count": 32,
   "metadata": {},
   "outputs": [],
   "source": [
    "data = []\n",
    "\n",
    "for r in transcribed_recordings:\n",
    "    data.append(Recording(**r.model_dump()))\n",
    "\n"
   ]
  },
  {
   "cell_type": "code",
   "execution_count": 39,
   "metadata": {},
   "outputs": [],
   "source": [
    "with open(audio_path/'data.json', 'w') as f:\n",
    "    json.dump([d.model_dump() for d in data], f)"
   ]
  },
  {
   "cell_type": "code",
   "execution_count": 11,
   "metadata": {},
   "outputs": [],
   "source": [
    "with open(audio_path/'data.json', 'r') as f:\n",
    "    data = [Recording(**d) for d in json.load(f)]\n",
    "\n"
   ]
  },
  {
   "cell_type": "code",
   "execution_count": 14,
   "metadata": {},
   "outputs": [],
   "source": [
    "client = instructor.from_openai(openai.AsyncOpenAI(api_key=os.environ[\"OPENAI_API_KEY\"]), mode=instructor.Mode.MD_JSON)\n",
    "\n",
    "class Summarization(BaseModel):\n",
    "    summary: str = Field(..., description=\"A summary of findings and relevant clinical information from the recording\")\n",
    "\n",
    "def get_messages(recording: Recording) -> dict:\n",
    "    return [\n",
    "        {\n",
    "            \"role\": \"system\",\n",
    "            \"content\": \"\"\"\\\n",
    "                You are a medical expert. You are given a transcript from a consultation between a doctor and a patient.\n",
    "                Review the transcript then write out a summary of the conversation that includes all the key points and relevant clinical information.\n",
    "            \"\"\"\n",
    "        },\n",
    "        {\n",
    "            \"role\": \"user\",\n",
    "            \"content\": f\"Here is the transcript:\\n\\n{recording.raw_transcript}\"\n",
    "        }\n",
    "    ]\n",
    "\n",
    "\n",
    "async def summarize(recording: Recording):\n",
    "    res = await client.chat.completions.create(\n",
    "        model=\"gpt-4o\",\n",
    "        response_model=Summarization,\n",
    "        temperature=0.0,\n",
    "        messages=get_messages(recording)\n",
    "    )\n",
    "    recording.summary = res.summary\n",
    "    return recording\n",
    "\n",
    "\n",
    "async def summarize_recordings(recordings: list[Recording]) -> list[Recording]:\n",
    "    semaphore = asyncio.Semaphore(2)  # Limit concurrency to 2\n",
    "    async def process_recording(recording: Recording) -> Recording:\n",
    "        print(\"summarizing\", recording.path.name)\n",
    "        async with semaphore:\n",
    "            return await summarize(recording)\n",
    "\n",
    "    tasks = [process_recording(recording) for recording in recordings]\n",
    "    return await asyncio.gather(*tasks)"
   ]
  },
  {
   "cell_type": "code",
   "execution_count": 15,
   "metadata": {},
   "outputs": [
    {
     "name": "stdout",
     "output_type": "stream",
     "text": [
      "summarizing native-AUD-20240523-061346.mp3\n",
      "summarizing english-AUD-20240423-WA0003.mp3\n",
      "summarizing english-AUD-20240423-WA0002.mp3\n",
      "summarizing native-AUD-20240523-080100.mp3\n",
      "summarizing english-AUD-20240423-WA0004.mp3\n",
      "summarizing native-AUD-20240524-013419.mp3\n",
      "summarizing english-AUD-20240423-WA0000.mp3\n",
      "summarizing native-AUD-20240523-063027.mp3\n",
      "summarizing native-AUD-20240523-063744.mp3\n",
      "summarizing english-AUD-20240423-WA0001.mp3\n",
      "summarizing native-AUD-20240524-013401.mp3\n",
      "summarizing english-AUD-20240423-WA0005.mp3\n",
      "summarizing native-AUD-20240524-013418.mp3\n"
     ]
    }
   ],
   "source": [
    "summarized_recordings = await summarize_recordings(data)"
   ]
  },
  {
   "cell_type": "code",
   "execution_count": 17,
   "metadata": {},
   "outputs": [],
   "source": [
    "with open(audio_path/'data.json', 'w') as f:\n",
    "    json.dump([d.model_dump() for d in summarized_recordings], f)\n",
    "\n"
   ]
  }
 ],
 "metadata": {
  "kernelspec": {
   "display_name": "meddibia",
   "language": "python",
   "name": "python3"
  },
  "language_info": {
   "codemirror_mode": {
    "name": "ipython",
    "version": 3
   },
   "file_extension": ".py",
   "mimetype": "text/x-python",
   "name": "python",
   "nbconvert_exporter": "python",
   "pygments_lexer": "ipython3",
   "version": "3.10.14"
  }
 },
 "nbformat": 4,
 "nbformat_minor": 2
}
